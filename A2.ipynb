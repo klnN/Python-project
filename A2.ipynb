{
 "cells": [
  {
   "cell_type": "markdown",
   "metadata": {},
   "source": [
    "# Assignment 2"
   ]
  },
  {
   "cell_type": "markdown",
   "metadata": {},
   "source": [
    "## 1.\n",
    "Represent a degree n polynomial function $p(x) = a_0 + a_1x + a_2x_2 + · · · + a_nx_n$ as a list of numbers $[a_0, a_1, a_2, . . . , a_n]$. Write a function called `poly_mult` which takes two input parameters $p$ and $q$ which are lists representing polynomial functions $p(x)$ and $q(x)$. The function returns a list representing the polynomial $p(x)q(x)$."
   ]
  },
  {
   "cell_type": "code",
   "execution_count": 37,
   "metadata": {},
   "outputs": [],
   "source": [
    "def poly_mult(p,q):\n",
    "    \"compute a list represent the list p times list q\"\n",
    "    # Initialize two lists\n",
    "    coeff_list = []\n",
    "    row_list = []\n",
    "    # times all the coefficients respectively in both p and q\n",
    "    # p:[1,2,3], q: [4,5], get [4,5],[8,10],[12,15]\n",
    "    for i in range(0,len(p)):\n",
    "        coeff = [p[i]*q[k] for k in range(0,len(q))]\n",
    "        coeff_list.append(coeff)\n",
    "    # create two zeros list to fit the empty case of coefficient list and combine them\n",
    "    # row_list:[4,5,0,0],[0,8,10,0],[12,15,0,0]\n",
    "    for j in range(0,len(p)):\n",
    "        first_zeros = [0]*j\n",
    "        last_zeros = [0]*(len(p)-1-j)\n",
    "        first_zeros.extend(coeff_list[j]+last_zeros)\n",
    "        row_list.append(first_zeros)\n",
    "    # calculate the sum of the numbers of the lists at same position\n",
    "    result = [sum(n) for n in zip(*row_list)]\n",
    "    return result"
   ]
  },
  {
   "cell_type": "code",
   "execution_count": 38,
   "metadata": {},
   "outputs": [
    {
     "data": {
      "text/plain": [
       "[7, 23, 45, 260, 88, 164, 8, 16]"
      ]
     },
     "execution_count": 38,
     "metadata": {},
     "output_type": "execute_result"
    }
   ],
   "source": [
    "poly_mult([1,3,5,34,0,4],[7,2,4])"
   ]
  },
  {
   "cell_type": "code",
   "execution_count": 39,
   "metadata": {},
   "outputs": [
    {
     "data": {
      "text/plain": [
       "[4, 6, 8, 10, 12]"
      ]
     },
     "execution_count": 39,
     "metadata": {},
     "output_type": "execute_result"
    }
   ],
   "source": [
    "poly_mult([2],[2,3,4,5,6])"
   ]
  },
  {
   "cell_type": "markdown",
   "metadata": {},
   "source": [
    "## 2.\n",
    "Write a function called `poly_newton` which takes input parameters `p`, `x0`, `tolerance` and `max_iter` where:\n",
    "`p` is a list representing a polynomial p(x), \n",
    "`x0` is a number,\n",
    "`tolerance` is a positive number,\n",
    "`max_iter` is a positive integer"
   ]
  },
  {
   "cell_type": "code",
   "execution_count": 2,
   "metadata": {},
   "outputs": [],
   "source": [
    "def poly_diff(p):\n",
    "    \"Compute the polynomial differential equation of p(x)\"\n",
    "    diff_list = [p[i]*i  for i in range(1,len(p))]\n",
    "    return diff_list\n",
    "\n",
    "def poly_eval(p,a):\n",
    "    \"Compute the value of a polynomial eqution p(x)\"\n",
    "    # Compute all of the terms of a\n",
    "    terms = [p[i]*(a**i) for i in range (0,len(p))]\n",
    "    # Compute the sum of terms\n",
    "    value = sum(terms)\n",
    "    return value\n",
    "\n",
    "def poly_newton(p,x0,tolerance,max_iter):\n",
    "    \"Computean approximation of a root of p(x) using the Newton’s method\"\n",
    "    # Intialize the list with the first x0\n",
    "    x_list = [x0]\n",
    "    # The special case is when x0 < tolerance, print and return value\n",
    "    if abs(poly_eval(p,x0)) < tolerance:\n",
    "        print('Found root is 0 iterations')\n",
    "        return x0\n",
    "    # keep checking the interation times in the range of 0 and the maximum value\n",
    "    for n in range(0,max_iter):\n",
    "    # Compute the next xn use the poly eval and poly differential\n",
    "        x_list_n1 = x_list[n] - poly_eval(p,x_list[n])/poly_eval(poly_diff(p),x_list[n])  \n",
    "        # check if the absolute value of p is smaller than tolerance,print and return value\n",
    "        if abs(poly_eval(p,x_list_n1)) < tolerance:\n",
    "            print('Found root is', n+1, 'iterations')\n",
    "            return x_list_n1\n",
    "        # otherwise, append the value of x and keep checking until reach the maximum iterations\n",
    "        else:\n",
    "            x_list.append(x_list_n1)\n",
    "    # If cannot find the root, print and return none\n",
    "    print(\"Root not found\")\n",
    "    return None"
   ]
  },
  {
   "cell_type": "code",
   "execution_count": 5,
   "metadata": {},
   "outputs": [
    {
     "name": "stdout",
     "output_type": "stream",
     "text": [
      "Found root is 4 iterations\n"
     ]
    },
    {
     "data": {
      "text/plain": [
       "1.0566545350572394"
      ]
     },
     "execution_count": 5,
     "metadata": {},
     "output_type": "execute_result"
    }
   ],
   "source": [
    "poly_newton([3,-5,0,10],5,20,5)"
   ]
  },
  {
   "cell_type": "code",
   "execution_count": 3,
   "metadata": {},
   "outputs": [
    {
     "name": "stdout",
     "output_type": "stream",
     "text": [
      "Root not found\n"
     ]
    }
   ],
   "source": [
    "poly_newton([3,-5,0,10],5,2,5)"
   ]
  },
  {
   "cell_type": "markdown",
   "metadata": {},
   "source": [
    "## 3.\n",
    "Write a function called `ab_sequence` which takes input parameters `a`, `b`, `x0`, `x1` and `N` and returns the sequence $x_0, x_1, . . . , x_N$ (as a Python list of length $N + 1$) given by recursive formula\n",
    "$$x_n = ax_{n−1} + bx_{n−2}$$"
   ]
  },
  {
   "cell_type": "code",
   "execution_count": 7,
   "metadata": {},
   "outputs": [],
   "source": [
    "def ab_sequence(a,b,x0,x1,N):\n",
    "    \"Compute the list of x in a recurive formula.\"\n",
    "    # Initialize the list\n",
    "    x_list = [x0,x1]\n",
    "    # for 2<=n<N+1, compute the new xn\n",
    "    for n in range(2,N+1):\n",
    "        x_list_n = a*x_list[n-1] + b*x_list[n-2] \n",
    "        # append xn to the list of xn\n",
    "        x_list.append(x_list_n)\n",
    "    return x_list"
   ]
  },
  {
   "cell_type": "code",
   "execution_count": 8,
   "metadata": {},
   "outputs": [
    {
     "data": {
      "text/plain": [
       "[1, 2, 10, 38, 154, 614, 2458, 9830, 39322, 157286, 629146]"
      ]
     },
     "execution_count": 8,
     "metadata": {},
     "output_type": "execute_result"
    }
   ],
   "source": [
    "ab_sequence(3,4,1,2,10)"
   ]
  },
  {
   "cell_type": "markdown",
   "metadata": {},
   "source": [
    "## 4.\n",
    "Write a function called `gcd` which takes input parameters `n` and `m` where both are positive integers and returns the greatest common divisor of $n$ and $m$."
   ]
  },
  {
   "cell_type": "code",
   "execution_count": 5,
   "metadata": {},
   "outputs": [],
   "source": [
    "def gcd(a,b):\n",
    "    \"Compute the greatest common divisor of two numbers\"\n",
    "    # when b equals to 0, we can not calculate it anymore, return a\n",
    "    if b == 0:\n",
    "        return a\n",
    "    # keep calculate the remainder of a/b, replace initial a, b with b and the new remainder\n",
    "    # until the remainder is 0, and we stop calculating it.\n",
    "    return gcd(b, a%b)"
   ]
  },
  {
   "cell_type": "code",
   "execution_count": 9,
   "metadata": {},
   "outputs": [
    {
     "data": {
      "text/plain": [
       "7"
      ]
     },
     "execution_count": 9,
     "metadata": {},
     "output_type": "execute_result"
    }
   ],
   "source": [
    "gcd(35, 49)"
   ]
  },
  {
   "cell_type": "markdown",
   "metadata": {},
   "source": [
    "## 5.\n",
    "Write a function called `no_squares` which takes an input parameter `N`, a positive integer, and returns:\n",
    "\n",
    "$1$ if $N$ is not divisible by a square and has an even number of prime factors.\n",
    "\n",
    "$−1$ if $N$ is not divisible by a square and has an odd number of prime factors.\n",
    "\n",
    "$0$ if $N$ is divisible by a square\n",
    "\n",
    "For example, `no_squares(10)` returns `1` (since $10 = 2×5$), `no_squares(30)` returns `-1` (since $30 = 2 × 3 × 5$) and `no_squares(12)` returns `0` (since $12 = 2^2 × 3$).\n"
   ]
  },
  {
   "cell_type": "code",
   "execution_count": 10,
   "metadata": {},
   "outputs": [],
   "source": [
    "def is_prime(n):\n",
    "    \"Determine if n is a prime number.\"\n",
    "    # Test if n is divisible by any number d less than n and greater than l\n",
    "    for k in range(2,n):\n",
    "        # If n is divisible by some k, return False\n",
    "        if n % k == 0:\n",
    "            return False\n",
    "    # If n is not divisible by any k, return True\n",
    "    return True\n",
    "\n",
    "def no_square(N):\n",
    "    \"Compute whether N can be divised by a square or not\"\n",
    "    # N equals 1 is a special case since 1 is not a prime number and we have 0 prime number\n",
    "    if N == 1:\n",
    "        return 1\n",
    "    # initialize the list\n",
    "    prime_factor_list = []\n",
    "    for k in range(2,N+1):\n",
    "        # put k in the list if it is a factor and a prime number\n",
    "        if N%k == 0 and is_prime(k):\n",
    "            prime_factor_list.append(k)\n",
    "    # check if N is divisible by the square of any numbers in its prime factors list\n",
    "    if any(N%(prime_factor_list[i]**2) == 0 for i in range(0,len(prime_factor_list))):\n",
    "        print(\"0\")\n",
    "    # Check if it has even number of prime factors\n",
    "    elif len(prime_factor_list)%2 == 0:\n",
    "        print(\"1\")\n",
    "    else:\n",
    "        print(\"-1\")"
   ]
  },
  {
   "cell_type": "code",
   "execution_count": 11,
   "metadata": {},
   "outputs": [
    {
     "name": "stdout",
     "output_type": "stream",
     "text": [
      "-1\n"
     ]
    }
   ],
   "source": [
    "no_square(30)"
   ]
  },
  {
   "cell_type": "markdown",
   "metadata": {},
   "source": [
    "## 6.\n",
    "Write a function called `four_squares` which takes an input parameter `N`, a positive integer, and returns the list of quadruples $(a, b, c, d)$ (as a Python list of tuples) of positive integers $a, b,c$ and $d$ such that $a^2+b^2+c^2+d^2 =N$ such that $0\\leq a \\leq b \\leq c \\leq d$."
   ]
  },
  {
   "cell_type": "code",
   "execution_count": 12,
   "metadata": {},
   "outputs": [],
   "source": [
    "def four_squares(N):\n",
    "    \"compute the 4 positive integers that satisfies N = a^2+b^2+c^2+d^2 for any integer N\"\n",
    "    # Initialize the list\n",
    "    list_n = []\n",
    "    # set the range of a\n",
    "    for a in range(0,N+1):\n",
    "        # set the range of b according to a\n",
    "        for b in range(a,N+1):\n",
    "            # set the range of c according to b\n",
    "            for c in range(b,N+1):\n",
    "                # set the range of d according to c\n",
    "                for d in range(c,N+1):\n",
    "                    # check if the statement is true\n",
    "                    if a**2+b**2+c**2+d**2 == N:\n",
    "                        # return the final answer\n",
    "                        list_n.append((a,b,c,d))\n",
    "    return list_n"
   ]
  },
  {
   "cell_type": "code",
   "execution_count": 13,
   "metadata": {},
   "outputs": [
    {
     "data": {
      "text/plain": [
       "[(0, 0, 1, 3), (1, 1, 2, 2)]"
      ]
     },
     "execution_count": 13,
     "metadata": {},
     "output_type": "execute_result"
    }
   ],
   "source": [
    "four_squares(10)"
   ]
  },
  {
   "cell_type": "code",
   "execution_count": null,
   "metadata": {},
   "outputs": [],
   "source": []
  }
 ],
 "metadata": {
  "kernelspec": {
   "display_name": "Python 3",
   "language": "python",
   "name": "python3"
  },
  "language_info": {
   "codemirror_mode": {
    "name": "ipython",
    "version": 3
   },
   "file_extension": ".py",
   "mimetype": "text/x-python",
   "name": "python",
   "nbconvert_exporter": "python",
   "pygments_lexer": "ipython3",
   "version": "3.6.4"
  }
 },
 "nbformat": 4,
 "nbformat_minor": 2
}
