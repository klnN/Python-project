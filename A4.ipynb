{
 "cells": [
  {
   "cell_type": "markdown",
   "metadata": {},
   "source": [
    "# Assignment 4\n",
    "\n",
    "## Xuan Hong\n",
    "\n",
    "## 60135167"
   ]
  },
  {
   "cell_type": "code",
   "execution_count": 1,
   "metadata": {},
   "outputs": [],
   "source": [
    "import numpy as np\n",
    "import matplotlib.pyplot as plt\n",
    "import scipy.integrate as spi\n",
    "import scipy.misc as mis\n",
    "%matplotlib inline"
   ]
  },
  {
   "cell_type": "markdown",
   "metadata": {},
   "source": [
    "## Question 1"
   ]
  },
  {
   "cell_type": "markdown",
   "metadata": {},
   "source": [
    "(a)\n",
    "\n",
    "\\begin{align*}\n",
    "f(x) &= \\ln(\\ln x) \\\\\n",
    "f'(x) &= \\frac{1}{\\ln (x)} \\cdot (\\ln (x))' = \\frac{1}{x \\ln (x)} \\\\\n",
    "f''(x) &= - \\frac{(x \\ln (x))'}{(x \\ln (x))^2} = - \\frac{\\ln (x)+x \\cdot \\frac{1}{x}}{(x \\ln (x))^2} =  - \\frac{\\ln (x)+1}{(x \\ln (x))^2} \\\\\n",
    "\\end{align*}\n",
    "\n",
    "(b)\n",
    "\n",
    "Prove $\\left| f''(x) \\right| \\leq  \\frac{2}{e^2}$ for $x \\geq e$\n",
    "\n",
    "\n",
    "for $x = e$, \n",
    "\\begin{align*}\n",
    "|f''(e) |&=  \\frac{\\ln (e)+1}{(e \\ln (e))^2} =  \\frac{2}{e^2}\n",
    "\\end{align*}\n",
    "\n",
    "for $x > e$, \n",
    "\\begin{align*}\n",
    "& \\ln (x) > \\ln (e) =1 \\\\\n",
    "(x \\ln (x))^2 - e ^2 & = (x \\ln(x) + e)\\cdot (x \\ln(x) - e) > \\ln (x) - 1 = \\ln (x) + 1 - 2  \\\\\n",
    "\\end{align*}\n",
    "\n",
    "Therefore, the difference of the denominator is larger than the difference of numerator.\n",
    "\n",
    "\\begin{align*}\n",
    "\\left|f''(x) \\right| &= \\frac{\\ln (x)+1}{(x \\ln (x))^2} < \\frac{2}{e^2}\n",
    "\\end{align*}\n"
   ]
  },
  {
   "cell_type": "code",
   "execution_count": 12,
   "metadata": {},
   "outputs": [
    {
     "data": {
      "text/plain": [
       "True"
      ]
     },
     "execution_count": 12,
     "metadata": {},
     "output_type": "execute_result"
    }
   ],
   "source": [
    "x = np.linspace(np.e,10000,1000000)\n",
    "df = -(np.log(x)+1)/(x**2*(np.log(x))**2)\n",
    "all(abs(df) <= 2/(np.e**2))"
   ]
  },
  {
   "cell_type": "markdown",
   "metadata": {},
   "source": [
    "(c)"
   ]
  },
  {
   "cell_type": "code",
   "execution_count": 25,
   "metadata": {},
   "outputs": [],
   "source": [
    "def log_log(u,abs_tolerance=0.0001):\n",
    "    '''\n",
    "    \"ompute the approximation of the integral using trapezoid rule\"\n",
    "    The function takes the input parameters and compute the value of value of \n",
    "    integral use trapezoid rule.\n",
    "    \n",
    "    Input:  u: a positive number, the function calculation parameter.\n",
    "            abs_tolerance: a positive number, the limitation (with default value 0.0001).\n",
    "    Output: The approximation of the integral\n",
    "    '''\n",
    "    # set N\n",
    "    N = 10000\n",
    "    # set x\n",
    "    x = np.linspace(np.e,u,N)\n",
    "    # compute y\n",
    "    y = np.log(np.log(x))\n",
    "    return spi.trapz(y,x)"
   ]
  },
  {
   "cell_type": "code",
   "execution_count": 26,
   "metadata": {},
   "outputs": [
    {
     "data": {
      "text/plain": [
       "0.63995448190170623"
      ]
     },
     "execution_count": 26,
     "metadata": {},
     "output_type": "execute_result"
    }
   ],
   "source": [
    "log_log(5,0.0001)"
   ]
  },
  {
   "cell_type": "markdown",
   "metadata": {},
   "source": [
    "## Question 2\n",
    "\n",
    "(a) \n",
    "\n",
    "\\begin{align*}\n",
    "f(x) &= e^{-x^2} \\\\\n",
    "f'(x) &= - 2x \\cdot e^{-x^2}\\\\\n",
    "f''(x) &= -2e^{-x^2} - 2x \\cdot (- 2x \\cdot e^{-x^2}) = -2e^{-x^2} + 4x^2e^{-x^2} \\\\\n",
    "f'''(x) &= 4xe^{-x^2} + 8xe^{-x^2} + 4x^2e^{-x^2} \\cdot (-2x) = 12xe^{-x^2} -8x^3e^{-x^2} \\\\\n",
    "f''''(x) &= 12e^{-x^2} + 12x \\cdot -2x e^{-x^2} - 24 x^2e^{-x^2} - 8x^3e^{-x^2} \\cdot (-2x) \\\\\n",
    "& =  12e^{-x^2} - 24x^2e^{-x^2} - 24 x^2e^{-x^2} + 16x^4e^{-x^2} = 12e^{-x^2} - 48x^2e^{-x^2} + 16x^4e^{-x^2} \\\\\n",
    "\\end{align*}\n",
    "\n",
    "(b)\n",
    "\n",
    "Since $x \\in [0,5], e^{-x^2} \\in (0,1)$ so\n",
    "\\begin{align*}\n",
    "\\left | f''''(x) \\right| \n",
    "& = \\left | 12e^{-x^2} - 48x^2e^{-x^2} + 16x^4e^{-x^2} \\right| \\\\\n",
    "& \\leq \\left | f''''(0) \\right| =12 \\\\\n",
    "\\end{align*}"
   ]
  },
  {
   "cell_type": "code",
   "execution_count": 23,
   "metadata": {},
   "outputs": [
    {
     "data": {
      "image/png": "[encoded data removed]",
      "text/plain": [
       "<matplotlib.figure.Figure at 0x7fc1540f1f98>"
      ]
     },
     "metadata": {},
     "output_type": "display_data"
    }
   ],
   "source": [
    "# set N\n",
    "N = 1000\n",
    "# set x\n",
    "x = np.linspace(0,5,N)\n",
    "# compute df\n",
    "df = 12*(np.e**(-x**2)) - 48*(x**2)*(np.e**(-x**2)) + 16*(x**4)*(np.e**(-x**2))\n",
    "# plot x and df\n",
    "plt.plot(x,df)\n",
    "plt.show()"
   ]
  },
  {
   "cell_type": "code",
   "execution_count": 27,
   "metadata": {},
   "outputs": [],
   "source": [
    "def erf(u,abs_tolerance=0.0001):\n",
    "    '''\n",
    "    \"Compute the integral use Simpon's rule.\"\n",
    "    The function takes the input parameters and compute the value of \n",
    "    integral use Simpson's rule.\n",
    "Input:  u: a positive number, the function calculation parameter.\n",
    "            abs_tolerance: a positive number, the limitation (with default value 0.0001).\n",
    "    Output: The approximation of the integral\n",
    "    '''\n",
    "    # set N\n",
    "    N = 1000\n",
    "    # set x\n",
    "    x = np.linspace(0,u,N)\n",
    "    # compute y\n",
    "    y = np.e**(-x**2)\n",
    "    return spi.simps(y,x)"
   ]
  },
  {
   "cell_type": "code",
   "execution_count": 28,
   "metadata": {},
   "outputs": [
    {
     "data": {
      "text/plain": [
       "0.88622664338911461"
      ]
     },
     "execution_count": 28,
     "metadata": {},
     "output_type": "execute_result"
    }
   ],
   "source": [
    "erf(15,0.0001)"
   ]
  },
  {
   "cell_type": "markdown",
   "metadata": {},
   "source": [
    "## Question 3"
   ]
  },
  {
   "cell_type": "code",
   "execution_count": 2,
   "metadata": {},
   "outputs": [],
   "source": [
    "def derivatives(f,a,n,h=0.001):\n",
    "    '''\n",
    "    \"Compute the approximations of the nth order derivatives.\"\n",
    "    The function takes the input parameters and compute the nth order derivatives, \n",
    "    and return the array\n",
    "    \n",
    "    Input:  f: a function.\n",
    "            a: a number, the function calculation parameter.\n",
    "            n: a positive number, the function calculation parameter.\n",
    "            h: a positive number, the limitation(with default value 0.001)\n",
    "    Output: The approximations of nth derivatives\n",
    "    '''\n",
    "    # set df\n",
    "    df = []\n",
    "    # compute fn in the range\n",
    "    for i in range(1,n+1):\n",
    "        term = [((-1)**k)*(mis.factorial(i)/(mis.factorial(k)*mis.factorial(i-k)))*(f(a+(i-2*k)*h)) for k in np.arange(0,i+1)]\n",
    "        fn = 1/((2**i)*(h**i)) * np.sum(term)\n",
    "        # append fn into df\n",
    "        df.append(fn)\n",
    "    return np.array(df)"
   ]
  },
  {
   "cell_type": "code",
   "execution_count": 3,
   "metadata": {},
   "outputs": [
    {
     "data": {
      "text/plain": [
       "array([  4.00000000e+01,   2.00000001e+00,  -2.84217094e-05,\n",
       "        -1.06581410e-02])"
      ]
     },
     "execution_count": 3,
     "metadata": {},
     "output_type": "execute_result"
    }
   ],
   "source": [
    "derivatives(lambda x:x**2+1,20,4,0.001)"
   ]
  },
  {
   "cell_type": "markdown",
   "metadata": {},
   "source": [
    "## Question 4"
   ]
  },
  {
   "cell_type": "code",
   "execution_count": 10,
   "metadata": {},
   "outputs": [],
   "source": [
    "def taylor(f,a,n,L):\n",
    "    '''\n",
    "    \"Draw the plot of f(x) and Taylor polynomial according to x \"\n",
    "    The function takes the input parameters and compute the value of f(x) and Taylor polynomial,\n",
    "    then show the graph.\n",
    "    \n",
    "    Input:  f: the function.\n",
    "            a: a positive number, the function calculation parameter, the range of x.\n",
    "            n: a positive integer, the limitation.\n",
    "            L: a positive integer, the limitation.\n",
    "    Output: The plot of df and Tn with Tn.\n",
    "    '''\n",
    "    # set N\n",
    "    N = 1000\n",
    "    # set x\n",
    "    x = np.linspace(a-L,a+L,N)\n",
    "    # set y and T0\n",
    "    y = f(x)\n",
    "    T0 = [f(a)]   \n",
    "    # compute Tn in the range\n",
    "    terms = [derivatives(f,a,k)[-1]*(x-a)**k/mis.factorial(k) for k in range(1,n+1)]\n",
    "    Tn = sum(T0 + terms)\n",
    "    return plt.plot(x,y,x,Tn)"
   ]
  },
  {
   "cell_type": "code",
   "execution_count": 11,
   "metadata": {},
   "outputs": [
    {
     "data": {
      "text/plain": [
       "[<matplotlib.lines.Line2D at 0x7f5b4ff8fd68>,\n",
       " <matplotlib.lines.Line2D at 0x7f5b4ff8ffd0>]"
      ]
     },
     "execution_count": 11,
     "metadata": {},
     "output_type": "execute_result"
    },
    {
     "data": {
      "image/png": "[encoded data removed]",
      "text/plain": [
       "<matplotlib.figure.Figure at 0x7f5b51fc4240>"
      ]
     },
     "metadata": {},
     "output_type": "display_data"
    }
   ],
   "source": [
    "taylor(lambda x: np.exp(x) / (x**2 + x + 1),0,2,3)"
   ]
  },
  {
   "cell_type": "markdown",
   "metadata": {},
   "source": [
    "## Question 5"
   ]
  },
  {
   "cell_type": "code",
   "execution_count": 5,
   "metadata": {},
   "outputs": [],
   "source": [
    "def newton(f,x0,h=0.001,tolerance=0.001,max_iter=100):\n",
    "    '''\n",
    "    \"Use Newton method to approximate the solution of f(x)=0\"\n",
    "    The \n",
    "    \n",
    "    Input:  f: the function.\n",
    "            x0: a positive number, the function calculation parameter.\n",
    "            h: a positive number, the space(with default value 0.001).\n",
    "            tolerance: a positive number, the limitation of f(x),(with default value 0.001).\n",
    "            max_iter: a positive number, the calculate times(with default value 100).\n",
    "    Output: The plot of df and Tn with Tn.\n",
    "    '''\n",
    "    # Intialize the list with the first x0\n",
    "    xlist = [x0]\n",
    "    # keep checking the interation times in the range of 0 and the maximum value\n",
    "    for n in range(0,max_iter+1):\n",
    "        # Compute the next xn use the poly eval and poly differential\n",
    "        xn = xlist[n] - f(xlist[n])/((f(xlist[n]+h) - f(xlist[n]-h))/(2*h))\n",
    "        # Chech if the derivative is zero\n",
    "        if (f(xlist[n]+h) - f(xlist[n]-h))/(2*h) == 0:\n",
    "            print('Zero derivative.')\n",
    "            return None  \n",
    "        # Check if the absolute value of p is smaller than tolerance,print and return value\n",
    "        elif abs(f(xlist[n])) <= tolerance:\n",
    "            return xlist[n]\n",
    "        # otherwise, append the value of x and keep checking until reach the maximum iterations\n",
    "        else:\n",
    "            xlist.append(xn)\n",
    "    # If cannot find the root when reaches the limitation, print and return none\n",
    "    print('Maximum iterations exceeded.')\n",
    "    return None"
   ]
  },
  {
   "cell_type": "code",
   "execution_count": 6,
   "metadata": {},
   "outputs": [
    {
     "data": {
      "text/plain": [
       "-1.0000547099892403"
      ]
     },
     "execution_count": 6,
     "metadata": {},
     "output_type": "execute_result"
    }
   ],
   "source": [
    "newton(lambda x:x**2*x+1,2)"
   ]
  },
  {
   "cell_type": "code",
   "execution_count": null,
   "metadata": {},
   "outputs": [],
   "source": []
  }
 ],
 "metadata": {
  "kernelspec": {
   "display_name": "Python 3",
   "language": "python",
   "name": "python3"
  },
  "language_info": {
   "codemirror_mode": {
    "name": "ipython",
    "version": 3
   },
   "file_extension": ".py",
   "mimetype": "text/x-python",
   "name": "python",
   "nbconvert_exporter": "python",
   "pygments_lexer": "ipython3",
   "version": "3.6.4"
  }
 },
 "nbformat": 4,
 "nbformat_minor": 2
}
