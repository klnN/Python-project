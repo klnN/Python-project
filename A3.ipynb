{
 "cells": [
  {
   "cell_type": "markdown",
   "metadata": {},
   "source": [
    "# Assignment 3"
   ]
  },
  {
   "cell_type": "code",
   "execution_count": 2,
   "metadata": {},
   "outputs": [],
   "source": [
    "import numpy as np\n",
    "import matplotlib.pyplot as plt\n",
    "%matplotlib inline"
   ]
  },
  {
   "cell_type": "markdown",
   "metadata": {},
   "source": [
    "## Question 1"
   ]
  },
  {
   "cell_type": "code",
   "execution_count": 3,
   "metadata": {},
   "outputs": [],
   "source": [
    "def spirograph(r,m,a,N):\n",
    "    '''\n",
    "    \"Draw the plot of x(t) and y(t) according to t.\"\n",
    "    The function takes the input parameters and compute the value of function x(t) and y(t),\n",
    "    then show the graph and coordinate points of (x(t),y(t)).\n",
    "    \n",
    "    Input:  r: a positive integer, the function calculation parameter.\n",
    "            m: a positive integer, the function calculation parameter, the range of t.\n",
    "            a: a positive integer, the function calculation parameter.\n",
    "            N: a positive integer, the space of each t.\n",
    "    Output: Array of the coordinates of x(t) and y(t) with the plot.\n",
    "    '''\n",
    "    # set t range\n",
    "    t = np.linspace(0,2*np.pi*m,N)\n",
    "    # x(t) and y(t) equations\n",
    "    x_t = r*(m-1)*np.cos(t/m)+a*np.cos((1-1/m)*t)\n",
    "    y_t = r*(m-1)*np.sin(t/m)-a*np.sin((1-1/m)*t)\n",
    "    # set the coordinates\n",
    "    P = np.array([x_t,y_t]).T\n",
    "    # plot the graph\n",
    "    plt.plot(x_t,y_t)\n",
    "    # set the title and axis display of the graph\n",
    "    plt.title('Sirograph as r=%d,m=%d,a=%d'%(r,m,a))\n",
    "    plt.axis('equal')\n",
    "    plt.axis('off')\n",
    "    plt.show()\n",
    "    return P"
   ]
  },
  {
   "cell_type": "code",
   "execution_count": 4,
   "metadata": {},
   "outputs": [
    {
     "data": {
      "image/png": "[encoded data removed]",
      "text/plain": [
       "<matplotlib.figure.Figure at 0x7f7ac3318080>"
      ]
     },
     "metadata": {},
     "output_type": "display_data"
    },
    {
     "data": {
      "text/plain": [
       "array([[  5.50000000e+01,   0.00000000e+00],\n",
       "       [  5.33219358e+01,  -2.55233179e+00],\n",
       "       [  4.87921167e+01,  -3.39965954e+00],\n",
       "       [  4.27636430e+01,  -1.38190842e+00],\n",
       "       [  3.70090842e+01,   3.74416368e+00],\n",
       "       [  3.31582706e+01,   1.12241795e+01],\n",
       "       [  3.21816272e+01,   1.95421361e+01],\n",
       "       [  3.40830869e+01,   2.68982668e+01],\n",
       "       [  3.79000736e+01,   3.17770675e+01],\n",
       "       [  4.20105591e+01,   3.34251567e+01],\n",
       "       [  4.46496969e+01,   3.20872650e+01],\n",
       "       [  4.44719999e+01,   2.89254424e+01],\n",
       "       [  4.09805670e+01,   2.56471473e+01],\n",
       "       [  3.46870737e+01,   2.39603069e+01],\n",
       "       [  2.69517216e+01,   2.50283765e+01],\n",
       "       [  1.95539536e+01,   2.90984221e+01],\n",
       "       [  1.41302163e+01,   3.54203188e+01],\n",
       "       [  1.16572686e+01,   4.24827269e+01],\n",
       "       [  1.21450682e+01,   4.84909355e+01],\n",
       "       [  1.46367316e+01,   5.19348681e+01],\n",
       "       [  1.75155670e+01,   5.20669208e+01],\n",
       "       [  1.90216874e+01,   4.91379287e+01],\n",
       "       [  1.78141680e+01,   4.43163489e+01],\n",
       "       [  1.34002543e+01,   3.93163227e+01],\n",
       "       [  6.29533634e+00,   3.58527103e+01],\n",
       "       [ -2.13711676e+00,   3.50961213e+01],\n",
       "       [ -1.01148554e+01,   3.73009692e+01],\n",
       "       [ -1.59990975e+01,   4.17246393e+01],\n",
       "       [ -1.88112298e+01,   4.68634356e+01],\n",
       "       [ -1.85399290e+01,   5.09303929e+01],\n",
       "       [ -1.61412067e+01,   5.24232513e+01],\n",
       "       [ -1.32313805e+01,   5.06022632e+01],\n",
       "       [ -1.15704622e+01,   4.57261280e+01],\n",
       "       [ -1.25000000e+01,   3.89711432e+01],\n",
       "       [ -1.65138675e+01,   3.20592353e+01],\n",
       "       [ -2.30982858e+01,   2.67129629e+01],\n",
       "       [ -3.08918814e+01,   2.41105164e+01],\n",
       "       [ -3.81149773e+01,   2.45137420e+01],\n",
       "       [ -4.31318300e+01,   2.71872795e+01],\n",
       "       [ -4.49673190e+01,   3.06344799e+01],\n",
       "       [ -4.36140535e+01,   3.30751896e+01],\n",
       "       [ -4.00324020e+01,   3.30136970e+01],\n",
       "       [ -3.58434451e+01,   2.97165134e+01],\n",
       "       [ -3.28123453e+01,   2.34482823e+01],\n",
       "       [ -3.22861679e+01,   1.53909064e+01],\n",
       "       [ -3.47646485e+01,   7.27155688e+00],\n",
       "       [ -3.97401903e+01,   8.17654022e-01],\n",
       "       [ -4.58578984e+01,  -2.78815160e+00],\n",
       "       [ -5.13448439e+01,  -3.27997379e+00],\n",
       "       [ -5.45722741e+01,  -1.38956856e+00],\n",
       "       [ -5.45722741e+01,   1.38956856e+00],\n",
       "       [ -5.13448439e+01,   3.27997379e+00],\n",
       "       [ -4.58578984e+01,   2.78815160e+00],\n",
       "       [ -3.97401903e+01,  -8.17654022e-01],\n",
       "       [ -3.47646485e+01,  -7.27155688e+00],\n",
       "       [ -3.22861679e+01,  -1.53909064e+01],\n",
       "       [ -3.28123453e+01,  -2.34482823e+01],\n",
       "       [ -3.58434451e+01,  -2.97165134e+01],\n",
       "       [ -4.00324020e+01,  -3.30136970e+01],\n",
       "       [ -4.36140535e+01,  -3.30751896e+01],\n",
       "       [ -4.49673190e+01,  -3.06344799e+01],\n",
       "       [ -4.31318300e+01,  -2.71872795e+01],\n",
       "       [ -3.81149773e+01,  -2.45137420e+01],\n",
       "       [ -3.08918814e+01,  -2.41105164e+01],\n",
       "       [ -2.30982858e+01,  -2.67129629e+01],\n",
       "       [ -1.65138675e+01,  -3.20592353e+01],\n",
       "       [ -1.25000000e+01,  -3.89711432e+01],\n",
       "       [ -1.15704622e+01,  -4.57261280e+01],\n",
       "       [ -1.32313805e+01,  -5.06022632e+01],\n",
       "       [ -1.61412067e+01,  -5.24232513e+01],\n",
       "       [ -1.85399290e+01,  -5.09303929e+01],\n",
       "       [ -1.88112298e+01,  -4.68634356e+01],\n",
       "       [ -1.59990975e+01,  -4.17246393e+01],\n",
       "       [ -1.01148554e+01,  -3.73009692e+01],\n",
       "       [ -2.13711676e+00,  -3.50961213e+01],\n",
       "       [  6.29533634e+00,  -3.58527103e+01],\n",
       "       [  1.34002543e+01,  -3.93163227e+01],\n",
       "       [  1.78141680e+01,  -4.43163489e+01],\n",
       "       [  1.90216874e+01,  -4.91379287e+01],\n",
       "       [  1.75155670e+01,  -5.20669208e+01],\n",
       "       [  1.46367316e+01,  -5.19348681e+01],\n",
       "       [  1.21450682e+01,  -4.84909355e+01],\n",
       "       [  1.16572686e+01,  -4.24827269e+01],\n",
       "       [  1.41302163e+01,  -3.54203188e+01],\n",
       "       [  1.95539536e+01,  -2.90984221e+01],\n",
       "       [  2.69517216e+01,  -2.50283765e+01],\n",
       "       [  3.46870737e+01,  -2.39603069e+01],\n",
       "       [  4.09805670e+01,  -2.56471473e+01],\n",
       "       [  4.44719999e+01,  -2.89254424e+01],\n",
       "       [  4.46496969e+01,  -3.20872650e+01],\n",
       "       [  4.20105591e+01,  -3.34251567e+01],\n",
       "       [  3.79000736e+01,  -3.17770675e+01],\n",
       "       [  3.40830869e+01,  -2.68982668e+01],\n",
       "       [  3.21816272e+01,  -1.95421361e+01],\n",
       "       [  3.31582706e+01,  -1.12241795e+01],\n",
       "       [  3.70090842e+01,  -3.74416368e+00],\n",
       "       [  4.27636430e+01,   1.38190842e+00],\n",
       "       [  4.87921167e+01,   3.39965954e+00],\n",
       "       [  5.33219358e+01,   2.55233179e+00],\n",
       "       [  5.50000000e+01,   1.10218212e-14]])"
      ]
     },
     "execution_count": 4,
     "metadata": {},
     "output_type": "execute_result"
    }
   ],
   "source": [
    "spirograph(5,10,10,100)"
   ]
  },
  {
   "cell_type": "markdown",
   "metadata": {},
   "source": [
    "## Question 2"
   ]
  },
  {
   "cell_type": "code",
   "execution_count": 5,
   "metadata": {},
   "outputs": [],
   "source": [
    "def log_integral(c,N):\n",
    "    '''\n",
    "    \"Compute the value of Rimannn sum up to N equivalent to the log equation\"\n",
    "    The function compute the value of Rimann sum to estimate the value of x function integral,\n",
    "    it use calculas to sum the function of x up to N.\n",
    "    \n",
    "    Input:  c: positive integer, the range of dx.\n",
    "            N: positive integer, the range of function.\n",
    "    Output: A real number. The result of the Rimannn sum equivalent to the log equation\n",
    "    '''\n",
    "    # set the k\n",
    "    k = np.arange(0,N+1)\n",
    "    # compute d_x\n",
    "    d_x = (c-1)/N\n",
    "    # compute x_k\n",
    "    x_k = 1 + k*d_x\n",
    "    # compute the result\n",
    "    result = np.sum((np.log(x_k)*d_x)/(1+np.log(x_k))**2)\n",
    "    return result"
   ]
  },
  {
   "cell_type": "code",
   "execution_count": 6,
   "metadata": {},
   "outputs": [
    {
     "data": {
      "text/plain": [
       "0.95088454638809661"
      ]
     },
     "execution_count": 6,
     "metadata": {},
     "output_type": "execute_result"
    }
   ],
   "source": [
    "log_integral(5,10)"
   ]
  },
  {
   "cell_type": "markdown",
   "metadata": {},
   "source": [
    "## Question 3"
   ]
  },
  {
   "cell_type": "code",
   "execution_count": 7,
   "metadata": {},
   "outputs": [],
   "source": [
    "def cos_product(x,N):\n",
    "    '''\n",
    "    \"Compute the cos product of the cosine function up to N\"\n",
    "    The function compute the value of the cosine function of input x, \n",
    "    and calculate the product of all the cosine function up to N.\n",
    "    \n",
    "    Input:  x: a real number, the function calculation parameter.\n",
    "            N: positive integer, the range of function.\n",
    "    Output: A real number. The result of the cos product of the cosine function up to N\n",
    "    '''\n",
    "    # set the k\n",
    "    k = np.linspace(1,N,N)\n",
    "    # compute the result\n",
    "    result = np.product(1 - ((4*x**2)/(np.pi*(2*k-1))**2))                      \n",
    "    return result"
   ]
  },
  {
   "cell_type": "code",
   "execution_count": 8,
   "metadata": {},
   "outputs": [
    {
     "data": {
      "text/plain": [
       "-0.9285585275933268"
      ]
     },
     "execution_count": 8,
     "metadata": {},
     "output_type": "execute_result"
    }
   ],
   "source": [
    "cos_product(10,100)"
   ]
  },
  {
   "cell_type": "markdown",
   "metadata": {},
   "source": [
    "## Question 4"
   ]
  },
  {
   "cell_type": "code",
   "execution_count": 9,
   "metadata": {},
   "outputs": [],
   "source": [
    "def a_product(N):\n",
    "    '''\n",
    "    \"Compute the product of the a function\"\n",
    "    The function compute the value of the product function of a, a is a recursive sequaence.\n",
    "    \n",
    "    Input: \n",
    "            N: positive integer, the range of function. \n",
    "    Output: A real number. The result of the product of the a function up to N\n",
    "    '''  \n",
    "    # initialize the array of a\n",
    "    a = np.array([np.sqrt(2)])   \n",
    "    # compute next a in the range (1,N)\n",
    "    for n in np.arange(1,N):\n",
    "        a_n = np.sqrt(2 + a[n-1])\n",
    "        # append the new a in the original array\n",
    "        a = np.append(a,a_n)\n",
    "    # compute the product of all a function\n",
    "    result = (np.product(a))/2**N\n",
    "    return result"
   ]
  },
  {
   "cell_type": "code",
   "execution_count": 10,
   "metadata": {},
   "outputs": [
    {
     "data": {
      "text/plain": [
       "0.63687550772175361"
      ]
     },
     "execution_count": 10,
     "metadata": {},
     "output_type": "execute_result"
    }
   ],
   "source": [
    "a_product(5)"
   ]
  },
  {
   "cell_type": "markdown",
   "metadata": {},
   "source": [
    "## Question 5"
   ]
  },
  {
   "cell_type": "code",
   "execution_count": 11,
   "metadata": {},
   "outputs": [],
   "source": [
    "def sum_sin_plot(N,T,m):\n",
    "    '''\n",
    "    \"Plot the sum sine function\"\n",
    "    The function compute the value of sine function according to t in range T, \n",
    "    and the sum of this function up to N. \n",
    "    Then show the graph and coordinate points of (t,y(t)).\n",
    "    \n",
    "    Input:\n",
    "           N: positive integer, the range of k.\n",
    "           T: a real number, the range of T.\n",
    "           m: positive integer, the space.\n",
    "    Output: Array of the coordinates of t and y(t) with the plot.\n",
    "    \n",
    "    '''\n",
    "    # set t\n",
    "    t = np.linspace(0,2*np.pi*T,m)\n",
    "    # Compute y_t sum sine function\n",
    "    y_t = 1/2 - 1/np.pi*np.sum((np.sin(2*np.pi*k*t)/k) for k in np.arange(1,N+1))\n",
    "    # plot y_t function\n",
    "    plt.plot(t,y_t)\n",
    "    plt.show()\n",
    "    # set the coordinates of points\n",
    "    P = np.array([t,y_t]).T\n",
    "    return P"
   ]
  },
  {
   "cell_type": "code",
   "execution_count": 12,
   "metadata": {},
   "outputs": [
    {
     "data": {
      "image/png": "[encoded data removed]",
      "text/plain": [
       "<matplotlib.figure.Figure at 0x7f7ac12ab908>"
      ]
     },
     "metadata": {},
     "output_type": "display_data"
    },
    {
     "data": {
      "text/plain": [
       "array([[  0.        ,   0.5       ],\n",
       "       [  4.48798951,   0.49575204],\n",
       "       [  8.97597901,   1.0654522 ],\n",
       "       [ 13.46396852,   0.45617793],\n",
       "       [ 17.95195802,   0.90340319],\n",
       "       [ 22.43994753,   0.44779498],\n",
       "       [ 26.92793703,   0.9609797 ],\n",
       "       [ 31.41592654,   0.40799178],\n",
       "       [ 35.90391604,   0.87895375],\n",
       "       [ 40.39190555,   0.39996062],\n",
       "       [ 44.87989505,   0.89991618],\n",
       "       [ 49.36788456,   0.35967243],\n",
       "       [ 53.85587406,   0.83918398],\n",
       "       [ 58.34386357,   0.3522747 ],\n",
       "       [ 62.83185307,   0.84614487]])"
      ]
     },
     "execution_count": 12,
     "metadata": {},
     "output_type": "execute_result"
    }
   ],
   "source": [
    "sum_sin_plot(20,10,15)"
   ]
  },
  {
   "cell_type": "code",
   "execution_count": null,
   "metadata": {},
   "outputs": [],
   "source": []
  }
 ],
 "metadata": {
  "kernelspec": {
   "display_name": "Python 3",
   "language": "python",
   "name": "python3"
  },
  "language_info": {
   "codemirror_mode": {
    "name": "ipython",
    "version": 3
   },
   "file_extension": ".py",
   "mimetype": "text/x-python",
   "name": "python",
   "nbconvert_exporter": "python",
   "pygments_lexer": "ipython3",
   "version": "3.6.4"
  }
 },
 "nbformat": 4,
 "nbformat_minor": 2
}
