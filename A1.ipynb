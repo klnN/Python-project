{
 "cells": [
  {
   "cell_type": "markdown",
   "metadata": {},
   "source": [
    "# MATH 210 Assignment 1"
   ]
  },
  {
   "cell_type": "markdown",
   "metadata": {},
   "source": [
    "1.Choose a definition, equation or theorem from any of your math courses (past or present) which you find interesting. Write LATEX code to display the definition, equation or theorem, write a short description and explain why you find it interesting. Your example should include several nontrivial mathematical symbols. Include links to other sources (such as Wikipedia) for more information. Include an image (with a link to the source) relevant to your example."
   ]
  },
  {
   "cell_type": "markdown",
   "metadata": {},
   "source": [
    "The [Laplace equation](https://en.wikipedia.org/wiki/Laplace%27s_equation):\n",
    "$$\n",
    "\\nabla ^2 \\psi = \\frac{\\partial^2 \\psi}{\\partial x^2} + \\frac{\\partial^2 \\psi}{\\partial y^2} \\equiv \\psi_{xx} + \\psi_{yy} = 0\n",
    "$$"
   ]
  },
  {
   "cell_type": "markdown",
   "metadata": {},
   "source": [
    "This is the case of two dimensions. It shows the relationship between the partial derivative in two dimension and relevant to the Cauchy–Riemann equations. Laplace equation can be applied in physics and engineering for linear time-invariant systems such as electrical circuits, harmonic oscillators. It is very useful when solving higher order differential equation. Here is the [video](https://www.youtube.com/watch?v=EW08rD-GFh0) to introduce it. \n",
    "![systems image](https://qph.ec.quoracdn.net/main-qimg-7f7f187e75d51e5214fbf4e44b91e97a) "
   ]
  },
  {
   "cell_type": "markdown",
   "metadata": {},
   "source": [
    "2.Write a function called `k_sum` which takes an input parameter $N$ and returns the sum\n",
    "\n",
    "$$\n",
    "\\sum_{k=1}^N \\frac{(-1)^{k+1}}{(2k-1)^3}=\\frac{\\pi ^3}{M}\n",
    "$$\n",
    "\n",
    "for some integer $M$. Find $M$ and explain your method."
   ]
  },
  {
   "cell_type": "code",
   "execution_count": 1,
   "metadata": {},
   "outputs": [],
   "source": [
    "def k_sum(N):\n",
    "    \"Compute the Nth k_sum of the function\"\n",
    "    # Compute the Nth terms \n",
    "    terms = [(-1)**(k+1)/(2*k-1)**3 for k in range (1,N+1)]\n",
    "    #Compute the sum of terms\n",
    "    k_sum = sum(terms)\n",
    "    return k_sum"
   ]
  },
  {
   "cell_type": "code",
   "execution_count": 2,
   "metadata": {},
   "outputs": [
    {
     "name": "stdout",
     "output_type": "stream",
     "text": [
      "32.00000000206407\n"
     ]
    }
   ],
   "source": [
    "# Compute M value\n",
    "M = 3.141592653589793**3/k_sum(1000)\n",
    "print(M)"
   ]
  },
  {
   "cell_type": "markdown",
   "metadata": {},
   "source": [
    "I first write a function of k_sum to find the sum of terms. Then use pi(3.141592653589793)^3 divides the value of k_sum to find the value of M."
   ]
  },
  {
   "cell_type": "markdown",
   "metadata": {},
   "source": [
    "3.The Taylor series of $ln x$ centered at $a = 1$ is the infinite series\n",
    "\n",
    "$$\n",
    "ln x = \\sum_{k=1}^\\infty (-1)^{k+1}\\frac{(x-1)^k}{k}\n",
    "$$\n",
    "\n",
    "The infinite series converges for $x \\in (0, 2]$. Write a function called `ln_taylor` which takes input parameters $x$, a real number in the interval $(0, 2]$, and $N$, a positive integer greater than $1$, and returns the sum\n",
    "\n",
    "$$\n",
    "\\sum_{k=1}^N (-1)^{k+1}\\frac{(x-1)^k}{k}\n",
    "$$"
   ]
  },
  {
   "cell_type": "code",
   "execution_count": 3,
   "metadata": {},
   "outputs": [],
   "source": [
    "def ln_taylor(x,N):\n",
    "    \"Compute the Nth sum of the Taylor series of lnx\"\n",
    "    # Compute the Nth terms\n",
    "    terms = [(-1)**(k+1)*((x-1)**k/k) for k in range (1,N+1)]\n",
    "    # Compute the sum of terms\n",
    "    ln_taylor = sum (terms)\n",
    "    return sum(terms)"
   ]
  },
  {
   "cell_type": "code",
   "execution_count": 4,
   "metadata": {},
   "outputs": [
    {
     "data": {
      "text/plain": [
       "0.7833333333333332"
      ]
     },
     "execution_count": 4,
     "metadata": {},
     "output_type": "execute_result"
    }
   ],
   "source": [
    "ln_taylor(2,5)"
   ]
  },
  {
   "cell_type": "markdown",
   "metadata": {},
   "source": [
    "4.Represent a degree $n$ polynomial function $p(x) = a_0 + a_1x + a_2x^2 + · · · + a_nx^n$ as a list of (real) coefficients $[a_0, a_1, a_2, . . . , a_n]$. Write a function called `poly_diff` which takes an input parameter $p$, a list representing a polynomial function $p(x)$, and returns a list representing the derivative $p′(x)$."
   ]
  },
  {
   "cell_type": "code",
   "execution_count": 5,
   "metadata": {},
   "outputs": [],
   "source": [
    "def poly_diff(p):\n",
    "    \"Compute the polynomial differential equation of p(x)\"\n",
    "    diff_list = [p[i]*i  for i in range(1,len(p))]\n",
    "    return diff_list"
   ]
  },
  {
   "cell_type": "code",
   "execution_count": 6,
   "metadata": {},
   "outputs": [
    {
     "data": {
      "text/plain": [
       "[2, 12, 96, 24, 45, 18, 63, 40, 0, 280]"
      ]
     },
     "execution_count": 6,
     "metadata": {},
     "output_type": "execute_result"
    }
   ],
   "source": [
    "poly_diff([1,2,6,32,6,9,3,9,5,0,28])"
   ]
  },
  {
   "cell_type": "markdown",
   "metadata": {},
   "source": [
    "5.Write a function called `poly_eval` which takes two input parameters $p$ and $a$ where $p$ is a list representing a polynomial function $p(x)$ and $a$ is a number. The function returns the value $p(a)$."
   ]
  },
  {
   "cell_type": "code",
   "execution_count": 9,
   "metadata": {},
   "outputs": [],
   "source": [
    "def poly_eval(p,a):\n",
    "    \"Compute the value of a polynomial eqution p(x)\"\n",
    "    # Compute all of the terms of a\n",
    "    terms = [p[i]*(a**i) for i in range (0,len(p))]\n",
    "    # Compute the sum of terms\n",
    "    value = sum(terms)\n",
    "    return value"
   ]
  },
  {
   "cell_type": "code",
   "execution_count": 10,
   "metadata": {},
   "outputs": [
    {
     "data": {
      "text/plain": [
       "282593992621"
      ]
     },
     "execution_count": 10,
     "metadata": {},
     "output_type": "execute_result"
    }
   ],
   "source": [
    "poly_eval([1,2,6,32,6,9,3,9,5,2,28],10)"
   ]
  },
  {
   "cell_type": "markdown",
   "metadata": {},
   "source": [
    "6.Write a function called `poly_max` which takes four input parameters $p$, $a$, $b$ and $N$, where $p$ is a list representing a polynomial function $p(x)$, $a$ and $b$ are real numbers, and $N$ is a positive integer. The function returns an approximation of the maximum value of $p(x)$ on the interval $[a,b]$ by creating a list of $N + 1$ evenly spaced values $a_0 = a,a_1,...,a_N = b$ from $a$ to $b$ and returning the maximum of the values $p(a_k), k = 0,...,N$. (You may use the function poly_eval from the previous question.)"
   ]
  },
  {
   "cell_type": "code",
   "execution_count": 11,
   "metadata": {},
   "outputs": [],
   "source": [
    "def poly_max(p,a,b,N):\n",
    "    \"Compute the maximum value of the polynomial function\"\n",
    "    # Compute the space between a and b to get a N+1 list\n",
    "    s = (b-a)/N\n",
    "    # Make a list of x according to the space\n",
    "    xs = [a + k*s for k in range(0,N+1)]\n",
    "    # Compute the p(x) value of each x\n",
    "    terms = [poly_eval(p,xs[i]) for i in range(0,N+1)]\n",
    "    # Get the maximum p(x) value of x\n",
    "    value = max(terms)\n",
    "    return value"
   ]
  },
  {
   "cell_type": "code",
   "execution_count": 12,
   "metadata": {},
   "outputs": [
    {
     "data": {
      "text/plain": [
       "282593992621.0"
      ]
     },
     "execution_count": 12,
     "metadata": {},
     "output_type": "execute_result"
    }
   ],
   "source": [
    "poly_max([1,2,6,32,6,9,3,9,5,2,28],1,10,2)"
   ]
  },
  {
   "cell_type": "code",
   "execution_count": null,
   "metadata": {},
   "outputs": [],
   "source": []
  }
 ],
 "metadata": {
  "kernelspec": {
   "display_name": "Python 3",
   "language": "python",
   "name": "python3"
  },
  "language_info": {
   "codemirror_mode": {
    "name": "ipython",
    "version": 3
   },
   "file_extension": ".py",
   "mimetype": "text/x-python",
   "name": "python",
   "nbconvert_exporter": "python",
   "pygments_lexer": "ipython3",
   "version": "3.6.4"
  }
 },
 "nbformat": 4,
 "nbformat_minor": 2
}
